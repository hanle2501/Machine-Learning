{
 "cells": [
  {
   "cell_type": "code",
   "execution_count": 1,
   "id": "9a6a9dcc",
   "metadata": {
    "_cell_guid": "b1076dfc-b9ad-4769-8c92-a6c4dae69d19",
    "_uuid": "8f2839f25d086af736a60e9eeb907d3b93b6e0e5",
    "execution": {
     "iopub.execute_input": "2021-08-27T15:42:31.866290Z",
     "iopub.status.busy": "2021-08-27T15:42:31.865213Z",
     "iopub.status.idle": "2021-08-27T15:42:31.876943Z",
     "shell.execute_reply": "2021-08-27T15:42:31.877460Z",
     "shell.execute_reply.started": "2021-08-27T15:39:39.755320Z"
    },
    "papermill": {
     "duration": 0.032904,
     "end_time": "2021-08-27T15:42:31.877747",
     "exception": false,
     "start_time": "2021-08-27T15:42:31.844843",
     "status": "completed"
    },
    "tags": []
   },
   "outputs": [
    {
     "name": "stdout",
     "output_type": "stream",
     "text": [
      "/kaggle/input/house-prices-advanced-regression-techniques/sample_submission.csv\n",
      "/kaggle/input/house-prices-advanced-regression-techniques/data_description.txt\n",
      "/kaggle/input/house-prices-advanced-regression-techniques/train.csv\n",
      "/kaggle/input/house-prices-advanced-regression-techniques/test.csv\n"
     ]
    }
   ],
   "source": [
    "# This Python 3 environment comes with many helpful analytics libraries installed\n",
    "# It is defined by the kaggle/python Docker image: https://github.com/kaggle/docker-python\n",
    "# For example, here's several helpful packages to load\n",
    "\n",
    "import numpy as np # linear algebra\n",
    "import pandas as pd # data processing, CSV file I/O (e.g. pd.read_csv)\n",
    "\n",
    "# Input data files are available in the read-only \"../input/\" directory\n",
    "# For example, running this (by clicking run or pressing Shift+Enter) will list all files under the input directory\n",
    "\n",
    "import os\n",
    "for dirname, _, filenames in os.walk('/kaggle/input'):\n",
    "    for filename in filenames:\n",
    "        print(os.path.join(dirname, filename))\n",
    "\n",
    "# You can write up to 20GB to the current directory (/kaggle/working/) that gets preserved as output when you create a version using \"Save & Run All\" \n",
    "# You can also write temporary files to /kaggle/temp/, but they won't be saved outside of the current session"
   ]
  },
  {
   "cell_type": "markdown",
   "id": "4bf19df4",
   "metadata": {
    "papermill": {
     "duration": 0.015987,
     "end_time": "2021-08-27T15:42:31.910408",
     "exception": false,
     "start_time": "2021-08-27T15:42:31.894421",
     "status": "completed"
    },
    "tags": []
   },
   "source": [
    "### Get the Data, Explore and Visualize ###"
   ]
  },
  {
   "cell_type": "code",
   "execution_count": 2,
   "id": "f974a7c0",
   "metadata": {
    "execution": {
     "iopub.execute_input": "2021-08-27T15:42:31.948022Z",
     "iopub.status.busy": "2021-08-27T15:42:31.947299Z",
     "iopub.status.idle": "2021-08-27T15:42:32.950175Z",
     "shell.execute_reply": "2021-08-27T15:42:32.949653Z",
     "shell.execute_reply.started": "2021-08-27T15:39:39.768833Z"
    },
    "papermill": {
     "duration": 1.023681,
     "end_time": "2021-08-27T15:42:32.950342",
     "exception": false,
     "start_time": "2021-08-27T15:42:31.926661",
     "status": "completed"
    },
    "tags": []
   },
   "outputs": [],
   "source": [
    "import seaborn as sns\n",
    "import matplotlib.pyplot as plt\n",
    "%matplotlib inline"
   ]
  },
  {
   "cell_type": "code",
   "execution_count": 3,
   "id": "1e2f4521",
   "metadata": {
    "execution": {
     "iopub.execute_input": "2021-08-27T15:42:32.987786Z",
     "iopub.status.busy": "2021-08-27T15:42:32.987134Z",
     "iopub.status.idle": "2021-08-27T15:42:33.059979Z",
     "shell.execute_reply": "2021-08-27T15:42:33.059412Z",
     "shell.execute_reply.started": "2021-08-27T15:39:39.786819Z"
    },
    "papermill": {
     "duration": 0.093522,
     "end_time": "2021-08-27T15:42:33.060132",
     "exception": false,
     "start_time": "2021-08-27T15:42:32.966610",
     "status": "completed"
    },
    "tags": []
   },
   "outputs": [],
   "source": [
    "df_train = pd.read_csv('../input/house-prices-advanced-regression-techniques/train.csv')\n",
    "df_test = pd.read_csv('../input/house-prices-advanced-regression-techniques/test.csv')"
   ]
  },
  {
   "cell_type": "code",
   "execution_count": 4,
   "id": "fb80a5b8",
   "metadata": {
    "execution": {
     "iopub.execute_input": "2021-08-27T15:42:33.106735Z",
     "iopub.status.busy": "2021-08-27T15:42:33.105723Z",
     "iopub.status.idle": "2021-08-27T15:42:33.557106Z",
     "shell.execute_reply": "2021-08-27T15:42:33.556661Z",
     "shell.execute_reply.started": "2021-08-27T15:39:39.853637Z"
    },
    "papermill": {
     "duration": 0.480688,
     "end_time": "2021-08-27T15:42:33.557242",
     "exception": false,
     "start_time": "2021-08-27T15:42:33.076554",
     "status": "completed"
    },
    "tags": []
   },
   "outputs": [
    {
     "name": "stdout",
     "output_type": "stream",
     "text": [
      "180921.19589041095\n"
     ]
    },
    {
     "data": {
      "text/plain": [
       "<seaborn.axisgrid.FacetGrid at 0x7f64ce40f610>"
      ]
     },
     "execution_count": 4,
     "metadata": {},
     "output_type": "execute_result"
    },
    {
     "data": {
      "image/png": "[encoded data removed]",
      "text/plain": [
       "<Figure size 864x432 with 1 Axes>"
      ]
     },
     "metadata": {
      "needs_background": "light"
     },
     "output_type": "display_data"
    }
   ],
   "source": [
    "# Sale price distribution\n",
    "print(df_train['SalePrice'].mean())\n",
    "sns.displot(df_train, x='SalePrice', height=6, aspect=2, bins=60, color='salmon')"
   ]
  },
  {
   "cell_type": "markdown",
   "id": "9b527e56",
   "metadata": {
    "papermill": {
     "duration": 0.016627,
     "end_time": "2021-08-27T15:42:33.590725",
     "exception": false,
     "start_time": "2021-08-27T15:42:33.574098",
     "status": "completed"
    },
    "tags": []
   },
   "source": [
    "### Remove Outliers ###"
   ]
  },
  {
   "cell_type": "code",
   "execution_count": 5,
   "id": "067b04b6",
   "metadata": {
    "execution": {
     "iopub.execute_input": "2021-08-27T15:42:33.631029Z",
     "iopub.status.busy": "2021-08-27T15:42:33.630127Z",
     "iopub.status.idle": "2021-08-27T15:42:33.634719Z",
     "shell.execute_reply": "2021-08-27T15:42:33.634137Z",
     "shell.execute_reply.started": "2021-08-27T15:39:40.280967Z"
    },
    "papermill": {
     "duration": 0.026857,
     "end_time": "2021-08-27T15:42:33.634852",
     "exception": false,
     "start_time": "2021-08-27T15:42:33.607995",
     "status": "completed"
    },
    "tags": []
   },
   "outputs": [],
   "source": [
    "df_train = df_train[df_train['SalePrice'] < 600000]"
   ]
  },
  {
   "cell_type": "code",
   "execution_count": 6,
   "id": "8540ffc1",
   "metadata": {
    "execution": {
     "iopub.execute_input": "2021-08-27T15:42:33.672063Z",
     "iopub.status.busy": "2021-08-27T15:42:33.671417Z",
     "iopub.status.idle": "2021-08-27T15:42:33.689611Z",
     "shell.execute_reply": "2021-08-27T15:42:33.689113Z",
     "shell.execute_reply.started": "2021-08-27T15:39:40.290618Z"
    },
    "papermill": {
     "duration": 0.037794,
     "end_time": "2021-08-27T15:42:33.689772",
     "exception": false,
     "start_time": "2021-08-27T15:42:33.651978",
     "status": "completed"
    },
    "tags": []
   },
   "outputs": [
    {
     "data": {
      "text/plain": [
       "SalePrice        1.000000\n",
       "OverallQual      0.798004\n",
       "GrLivArea        0.691034\n",
       "GarageCars       0.651630\n",
       "GarageArea       0.634058\n",
       "TotalBsmtSF      0.605791\n",
       "1stFlrSF         0.596491\n",
       "FullBath         0.558121\n",
       "YearBuilt        0.539240\n",
       "TotRmsAbvGrd     0.528314\n",
       "YearRemodAdd     0.526217\n",
       "GarageYrBlt      0.502955\n",
       "Fireplaces       0.464401\n",
       "MasVnrArea       0.450840\n",
       "BsmtFinSF1       0.360712\n",
       "LotFrontage      0.332741\n",
       "OpenPorchSF      0.329547\n",
       "WoodDeckSF       0.324530\n",
       "2ndFlrSF         0.293729\n",
       "HalfBath         0.279427\n",
       "LotArea          0.261000\n",
       "BsmtFullBath     0.231081\n",
       "BsmtUnfSF        0.229938\n",
       "BedroomAbvGr     0.162933\n",
       "ScreenPorch      0.123285\n",
       "MoSold           0.062310\n",
       "3SsnPorch        0.049468\n",
       "PoolArea         0.029813\n",
       "BsmtFinSF2      -0.006743\n",
       "MiscVal         -0.020869\n",
       "LowQualFinSF    -0.024955\n",
       "YrSold          -0.025256\n",
       "Id              -0.034198\n",
       "BsmtHalfBath    -0.035687\n",
       "OverallCond     -0.077834\n",
       "MSSubClass      -0.087090\n",
       "EnclosedPorch   -0.129846\n",
       "KitchenAbvGr    -0.140343\n",
       "Name: SalePrice, dtype: float64"
      ]
     },
     "execution_count": 6,
     "metadata": {},
     "output_type": "execute_result"
    }
   ],
   "source": [
    "# Check the correlation of each feature\n",
    "# Potentiall drop out features which have low correlation (<0.2) with Sale Price since there are 81 features total\n",
    "df_train.corr()['SalePrice'].sort_values(ascending=False)"
   ]
  },
  {
   "cell_type": "markdown",
   "id": "cb8096f3",
   "metadata": {
    "papermill": {
     "duration": 0.01684,
     "end_time": "2021-08-27T15:42:33.723897",
     "exception": false,
     "start_time": "2021-08-27T15:42:33.707057",
     "status": "completed"
    },
    "tags": []
   },
   "source": [
    "### Investigating The Unique Entries in each Categorical Data ###"
   ]
  },
  {
   "cell_type": "code",
   "execution_count": 7,
   "id": "f43ecdff",
   "metadata": {
    "execution": {
     "iopub.execute_input": "2021-08-27T15:42:33.769830Z",
     "iopub.status.busy": "2021-08-27T15:42:33.769217Z",
     "iopub.status.idle": "2021-08-27T15:42:33.820101Z",
     "shell.execute_reply": "2021-08-27T15:42:33.820563Z",
     "shell.execute_reply.started": "2021-08-27T15:39:40.314340Z"
    },
    "papermill": {
     "duration": 0.079739,
     "end_time": "2021-08-27T15:42:33.820781",
     "exception": false,
     "start_time": "2021-08-27T15:42:33.741042",
     "status": "completed"
    },
    "tags": []
   },
   "outputs": [
    {
     "name": "stdout",
     "output_type": "stream",
     "text": [
      "Small Cardinality Numbers:\n",
      "Total entries added: 196\n",
      "[('Street', 2), ('Alley', 2), ('Utilities', 2), ('CentralAir', 2), ('LandSlope', 3), ('GarageFinish', 3), ('PavedDrive', 3), ('PoolQC', 3), ('LotShape', 4), ('LandContour', 4), ('MasVnrType', 4), ('ExterQual', 4), ('BsmtQual', 4), ('BsmtCond', 4), ('BsmtExposure', 4), ('KitchenQual', 4), ('Fence', 4), ('MiscFeature', 4), ('MSZoning', 5), ('LotConfig', 5), ('BldgType', 5), ('ExterCond', 5), ('HeatingQC', 5), ('Electrical', 5), ('FireplaceQu', 5), ('GarageQual', 5), ('GarageCond', 5), ('RoofStyle', 6), ('Foundation', 6), ('BsmtFinType1', 6), ('BsmtFinType2', 6), ('Heating', 6), ('GarageType', 6), ('SaleCondition', 6), ('Functional', 7), ('Condition2', 8), ('HouseStyle', 8), ('RoofMatl', 8), ('Condition1', 9), ('SaleType', 9)]\n",
      "\n",
      "\n",
      "Big Cardinality Numbers:\n",
      "Total entries added: 56\n",
      "[('Exterior1st', 15), ('Exterior2nd', 16), ('Neighborhood', 25)]\n"
     ]
    }
   ],
   "source": [
    "# Obtain all the object data. Print each category with its unique entry number\n",
    "object_list_train = df_train.select_dtypes(include='object').columns.tolist()\n",
    "cardinality_total = list(map(lambda x: df_train[x].nunique(), object_list_train))\n",
    "d = dict(zip(object_list_train, cardinality_total))\n",
    "sorted_d = sorted(d.items(), key=lambda x: x[1])\n",
    "\n",
    "def extract_entries(cardinality_level):\n",
    "    cardinality_num = list(map(lambda x: df_train[x].nunique(), cardinality_level))\n",
    "    d_level = dict(zip(cardinality_level, cardinality_num))\n",
    "    sorted_d_level = sorted(d_level.items(), key=lambda x: x[1])\n",
    "    total_entries_added = sum(cardinality_num)\n",
    "    return ('Total entries added: ' + str(total_entries_added) + '\\n' +\n",
    "           str(sorted_d_level))\n",
    "\n",
    "# Separate the category which has small unique entries\n",
    "low_cardinality_train = [cols for cols in object_list_train if df_train[cols].nunique() < 10]\n",
    "\n",
    "\n",
    "# Extract category which has high number of unique entries\n",
    "high_cardinality_train = list(set(object_list_train) - set(low_cardinality_train))\\\n",
    "\n",
    "print('Small Cardinality Numbers:')\n",
    "print(extract_entries(low_cardinality_train))\n",
    "print('\\n')\n",
    "print('Big Cardinality Numbers:')\n",
    "print(extract_entries(high_cardinality_train))"
   ]
  },
  {
   "cell_type": "code",
   "execution_count": 8,
   "id": "9632a9d2",
   "metadata": {
    "execution": {
     "iopub.execute_input": "2021-08-27T15:42:33.862418Z",
     "iopub.status.busy": "2021-08-27T15:42:33.861825Z",
     "iopub.status.idle": "2021-08-27T15:42:33.865403Z",
     "shell.execute_reply": "2021-08-27T15:42:33.864906Z",
     "shell.execute_reply.started": "2021-08-27T15:39:40.394568Z"
    },
    "papermill": {
     "duration": 0.027056,
     "end_time": "2021-08-27T15:42:33.865538",
     "exception": false,
     "start_time": "2021-08-27T15:42:33.838482",
     "status": "completed"
    },
    "tags": []
   },
   "outputs": [
    {
     "data": {
      "text/plain": [
       "['Neighborhood']"
      ]
     },
     "execution_count": 8,
     "metadata": {},
     "output_type": "execute_result"
    }
   ],
   "source": [
    "good_labels = [col for col in high_cardinality_train if set(df_test[col]).issubset(df_train[col])]\n",
    "good_labels"
   ]
  },
  {
   "cell_type": "markdown",
   "id": "9f9cc8f8",
   "metadata": {
    "papermill": {
     "duration": 0.017315,
     "end_time": "2021-08-27T15:42:33.901624",
     "exception": false,
     "start_time": "2021-08-27T15:42:33.884309",
     "status": "completed"
    },
    "tags": []
   },
   "source": [
    "### Numerical Data ###"
   ]
  },
  {
   "cell_type": "code",
   "execution_count": 9,
   "id": "71e65858",
   "metadata": {
    "execution": {
     "iopub.execute_input": "2021-08-27T15:42:33.947138Z",
     "iopub.status.busy": "2021-08-27T15:42:33.946368Z",
     "iopub.status.idle": "2021-08-27T15:42:33.949797Z",
     "shell.execute_reply": "2021-08-27T15:42:33.950179Z",
     "shell.execute_reply.started": "2021-08-27T15:39:40.403977Z"
    },
    "papermill": {
     "duration": 0.030886,
     "end_time": "2021-08-27T15:42:33.950360",
     "exception": false,
     "start_time": "2021-08-27T15:42:33.919474",
     "status": "completed"
    },
    "tags": []
   },
   "outputs": [
    {
     "data": {
      "text/plain": [
       "['Id',\n",
       " 'MSSubClass',\n",
       " 'LotFrontage',\n",
       " 'LotArea',\n",
       " 'OverallQual',\n",
       " 'OverallCond',\n",
       " 'YearBuilt',\n",
       " 'YearRemodAdd',\n",
       " 'MasVnrArea',\n",
       " 'BsmtFinSF1',\n",
       " 'BsmtFinSF2',\n",
       " 'BsmtUnfSF',\n",
       " 'TotalBsmtSF',\n",
       " '1stFlrSF',\n",
       " '2ndFlrSF',\n",
       " 'LowQualFinSF',\n",
       " 'GrLivArea',\n",
       " 'BsmtFullBath',\n",
       " 'BsmtHalfBath',\n",
       " 'FullBath',\n",
       " 'HalfBath',\n",
       " 'BedroomAbvGr',\n",
       " 'KitchenAbvGr',\n",
       " 'TotRmsAbvGrd',\n",
       " 'Fireplaces',\n",
       " 'GarageYrBlt',\n",
       " 'GarageCars',\n",
       " 'GarageArea',\n",
       " 'WoodDeckSF',\n",
       " 'OpenPorchSF',\n",
       " 'EnclosedPorch',\n",
       " '3SsnPorch',\n",
       " 'ScreenPorch',\n",
       " 'PoolArea',\n",
       " 'MiscVal',\n",
       " 'MoSold',\n",
       " 'YrSold',\n",
       " 'SalePrice']"
      ]
     },
     "execution_count": 9,
     "metadata": {},
     "output_type": "execute_result"
    }
   ],
   "source": [
    "# Obtain all the numerical data for both train and test set\n",
    "numerical_train = df_train.select_dtypes(exclude='object').columns.tolist()\n",
    "numerical_test = df_test.select_dtypes(exclude='object').columns.tolist()\n",
    "\n",
    "numerical_train"
   ]
  },
  {
   "cell_type": "markdown",
   "id": "b8eb88a0",
   "metadata": {
    "papermill": {
     "duration": 0.017626,
     "end_time": "2021-08-27T15:42:33.986003",
     "exception": false,
     "start_time": "2021-08-27T15:42:33.968377",
     "status": "completed"
    },
    "tags": []
   },
   "source": [
    "### Handling Missing Values ###"
   ]
  },
  {
   "cell_type": "code",
   "execution_count": 10,
   "id": "76b4e5a1",
   "metadata": {
    "execution": {
     "iopub.execute_input": "2021-08-27T15:42:34.031803Z",
     "iopub.status.busy": "2021-08-27T15:42:34.031164Z",
     "iopub.status.idle": "2021-08-27T15:42:34.049091Z",
     "shell.execute_reply": "2021-08-27T15:42:34.048636Z",
     "shell.execute_reply.started": "2021-08-27T15:39:40.424202Z"
    },
    "papermill": {
     "duration": 0.044894,
     "end_time": "2021-08-27T15:42:34.049223",
     "exception": false,
     "start_time": "2021-08-27T15:42:34.004329",
     "status": "completed"
    },
    "tags": []
   },
   "outputs": [
    {
     "data": {
      "text/html": [
       "<div>\n",
       "<style scoped>\n",
       "    .dataframe tbody tr th:only-of-type {\n",
       "        vertical-align: middle;\n",
       "    }\n",
       "\n",
       "    .dataframe tbody tr th {\n",
       "        vertical-align: top;\n",
       "    }\n",
       "\n",
       "    .dataframe thead th {\n",
       "        text-align: right;\n",
       "    }\n",
       "</style>\n",
       "<table border=\"1\" class=\"dataframe\">\n",
       "  <thead>\n",
       "    <tr style=\"text-align: right;\">\n",
       "      <th></th>\n",
       "      <th>Percentage of Missing Values</th>\n",
       "    </tr>\n",
       "  </thead>\n",
       "  <tbody>\n",
       "    <tr>\n",
       "      <th>PoolQC</th>\n",
       "      <td>99.59</td>\n",
       "    </tr>\n",
       "    <tr>\n",
       "      <th>MiscFeature</th>\n",
       "      <td>96.29</td>\n",
       "    </tr>\n",
       "    <tr>\n",
       "      <th>Alley</th>\n",
       "      <td>93.75</td>\n",
       "    </tr>\n",
       "    <tr>\n",
       "      <th>Fence</th>\n",
       "      <td>80.77</td>\n",
       "    </tr>\n",
       "    <tr>\n",
       "      <th>FireplaceQu</th>\n",
       "      <td>47.39</td>\n",
       "    </tr>\n",
       "    <tr>\n",
       "      <th>LotFrontage</th>\n",
       "      <td>17.79</td>\n",
       "    </tr>\n",
       "    <tr>\n",
       "      <th>GarageYrBlt</th>\n",
       "      <td>5.56</td>\n",
       "    </tr>\n",
       "    <tr>\n",
       "      <th>GarageCond</th>\n",
       "      <td>5.56</td>\n",
       "    </tr>\n",
       "    <tr>\n",
       "      <th>GarageType</th>\n",
       "      <td>5.56</td>\n",
       "    </tr>\n",
       "    <tr>\n",
       "      <th>GarageFinish</th>\n",
       "      <td>5.56</td>\n",
       "    </tr>\n",
       "    <tr>\n",
       "      <th>GarageQual</th>\n",
       "      <td>5.56</td>\n",
       "    </tr>\n",
       "    <tr>\n",
       "      <th>BsmtFinType2</th>\n",
       "      <td>2.61</td>\n",
       "    </tr>\n",
       "    <tr>\n",
       "      <th>BsmtExposure</th>\n",
       "      <td>2.61</td>\n",
       "    </tr>\n",
       "    <tr>\n",
       "      <th>BsmtQual</th>\n",
       "      <td>2.54</td>\n",
       "    </tr>\n",
       "    <tr>\n",
       "      <th>BsmtCond</th>\n",
       "      <td>2.54</td>\n",
       "    </tr>\n",
       "    <tr>\n",
       "      <th>BsmtFinType1</th>\n",
       "      <td>2.54</td>\n",
       "    </tr>\n",
       "    <tr>\n",
       "      <th>MasVnrArea</th>\n",
       "      <td>0.55</td>\n",
       "    </tr>\n",
       "    <tr>\n",
       "      <th>MasVnrType</th>\n",
       "      <td>0.55</td>\n",
       "    </tr>\n",
       "    <tr>\n",
       "      <th>Electrical</th>\n",
       "      <td>0.07</td>\n",
       "    </tr>\n",
       "  </tbody>\n",
       "</table>\n",
       "</div>"
      ],
      "text/plain": [
       "              Percentage of Missing Values\n",
       "PoolQC                               99.59\n",
       "MiscFeature                          96.29\n",
       "Alley                                93.75\n",
       "Fence                                80.77\n",
       "FireplaceQu                          47.39\n",
       "LotFrontage                          17.79\n",
       "GarageYrBlt                           5.56\n",
       "GarageCond                            5.56\n",
       "GarageType                            5.56\n",
       "GarageFinish                          5.56\n",
       "GarageQual                            5.56\n",
       "BsmtFinType2                          2.61\n",
       "BsmtExposure                          2.61\n",
       "BsmtQual                              2.54\n",
       "BsmtCond                              2.54\n",
       "BsmtFinType1                          2.54\n",
       "MasVnrArea                            0.55\n",
       "MasVnrType                            0.55\n",
       "Electrical                            0.07"
      ]
     },
     "execution_count": 10,
     "metadata": {},
     "output_type": "execute_result"
    }
   ],
   "source": [
    "percentage = np.round(df_train.isnull().sum().sort_values(ascending=False)[:19]/len(df_train.index)*100, 2)\n",
    "percentage_df = pd.DataFrame(percentage, columns=['Percentage of Missing Values'])\n",
    "percentage_df"
   ]
  },
  {
   "cell_type": "code",
   "execution_count": 11,
   "id": "991e5183",
   "metadata": {
    "execution": {
     "iopub.execute_input": "2021-08-27T15:42:34.107853Z",
     "iopub.status.busy": "2021-08-27T15:42:34.107233Z",
     "iopub.status.idle": "2021-08-27T15:42:34.111966Z",
     "shell.execute_reply": "2021-08-27T15:42:34.111514Z",
     "shell.execute_reply.started": "2021-08-27T15:39:40.455784Z"
    },
    "papermill": {
     "duration": 0.043671,
     "end_time": "2021-08-27T15:42:34.112106",
     "exception": false,
     "start_time": "2021-08-27T15:42:34.068435",
     "status": "completed"
    },
    "tags": []
   },
   "outputs": [
    {
     "name": "stdout",
     "output_type": "stream",
     "text": [
      "['Alley', 'MasVnrType', 'BsmtQual', 'BsmtCond', 'BsmtExposure', 'BsmtFinType1', 'BsmtFinType2', 'Electrical', 'FireplaceQu', 'GarageType', 'GarageFinish', 'GarageQual', 'GarageCond', 'PoolQC', 'Fence', 'MiscFeature']\n"
     ]
    },
    {
     "data": {
      "text/plain": [
       "['LotFrontage', 'MasVnrArea', 'GarageYrBlt']"
      ]
     },
     "execution_count": 11,
     "metadata": {},
     "output_type": "execute_result"
    }
   ],
   "source": [
    "# Separate missing values of categorical and numerical lists for observation\n",
    "\n",
    "missing_object = [cols for cols in object_list_train if pd.isnull(df_train[cols]).any()]\n",
    "missing_numerical = [cols for cols in numerical_train if pd.isnull(df_train[cols]).any()]\n",
    "print(missing_object)\n",
    "missing_numerical"
   ]
  },
  {
   "cell_type": "markdown",
   "id": "a2a8c542",
   "metadata": {
    "papermill": {
     "duration": 0.01896,
     "end_time": "2021-08-27T15:42:34.150489",
     "exception": false,
     "start_time": "2021-08-27T15:42:34.131529",
     "status": "completed"
    },
    "tags": []
   },
   "source": [
    "### Preprocessing Data using Pipeline ###"
   ]
  },
  {
   "cell_type": "markdown",
   "id": "40f04fef",
   "metadata": {
    "papermill": {
     "duration": 0.018869,
     "end_time": "2021-08-27T15:42:34.188918",
     "exception": false,
     "start_time": "2021-08-27T15:42:34.170049",
     "status": "completed"
    },
    "tags": []
   },
   "source": [
    "**Fill in LotFrontage First (since we can use Neighborhood to fill the NaN). Fill the rest with 0**"
   ]
  },
  {
   "cell_type": "code",
   "execution_count": 12,
   "id": "bdb010e7",
   "metadata": {
    "execution": {
     "iopub.execute_input": "2021-08-27T15:42:34.237498Z",
     "iopub.status.busy": "2021-08-27T15:42:34.235490Z",
     "iopub.status.idle": "2021-08-27T15:42:34.276235Z",
     "shell.execute_reply": "2021-08-27T15:42:34.275690Z",
     "shell.execute_reply.started": "2021-08-27T15:39:40.496712Z"
    },
    "papermill": {
     "duration": 0.067663,
     "end_time": "2021-08-27T15:42:34.276400",
     "exception": false,
     "start_time": "2021-08-27T15:42:34.208737",
     "status": "completed"
    },
    "tags": []
   },
   "outputs": [],
   "source": [
    "# Fill in the LotFrontage missing values by taking the mean of lotfrontage based on its neighborhood\n",
    "neighbor = df_train.groupby('Neighborhood').mean()['LotFrontage']\n",
    "\n",
    "def fill_lf(cols):\n",
    "    neighborhood = cols[0]\n",
    "    lf = cols[1]\n",
    "    if pd.isnull(lf):\n",
    "        return neighbor[neighborhood]\n",
    "    else:\n",
    "        return lf\n",
    "\n",
    "df_train['LotFrontage'] = df_train[['Neighborhood', 'LotFrontage']].apply(fill_lf, axis=1)\n",
    "df_test['LotFrontage'] = df_test[['Neighborhood', 'LotFrontage']].apply(fill_lf, axis=1)"
   ]
  },
  {
   "cell_type": "code",
   "execution_count": 13,
   "id": "8cc102d0",
   "metadata": {
    "execution": {
     "iopub.execute_input": "2021-08-27T15:42:34.321571Z",
     "iopub.status.busy": "2021-08-27T15:42:34.320929Z",
     "iopub.status.idle": "2021-08-27T15:42:34.672325Z",
     "shell.execute_reply": "2021-08-27T15:42:34.671781Z",
     "shell.execute_reply.started": "2021-08-27T15:39:40.576750Z"
    },
    "papermill": {
     "duration": 0.376589,
     "end_time": "2021-08-27T15:42:34.672465",
     "exception": false,
     "start_time": "2021-08-27T15:42:34.295876",
     "status": "completed"
    },
    "tags": []
   },
   "outputs": [],
   "source": [
    "from sklearn.pipeline import Pipeline\n",
    "from sklearn.preprocessing import OneHotEncoder\n",
    "from sklearn.impute import SimpleImputer\n",
    "from sklearn.compose import ColumnTransformer\n",
    "\n",
    "# Preprocessing for Categorical Data\n",
    "categorical_transformer = Pipeline(steps=[\n",
    "     ('impute', SimpleImputer(missing_values=np.nan, strategy='constant', fill_value='None')),\n",
    "     ('onehot', OneHotEncoder(handle_unknown='ignore', sparse=False))\n",
    "])\n",
    "\n",
    "# Before processing the numerical, remove the SalePrice and Id from the numerical list\n",
    "numerical_train.remove('SalePrice')\n",
    "numerical_train.remove('Id')\n",
    "\n",
    "# Preprocessing for Numerical Data\n",
    "numerical_transformer = Pipeline(steps=[\n",
    "    ('impute', SimpleImputer(missing_values=np.nan, strategy='most_frequent'))\n",
    "])\n",
    "\n",
    "# Bundle and create the preprocessor\n",
    "preprocessor = ColumnTransformer(transformers=[\n",
    "    ('num', numerical_transformer, numerical_train),\n",
    "    ('cat', categorical_transformer, object_list_train)\n",
    "])"
   ]
  },
  {
   "cell_type": "markdown",
   "id": "226b4bef",
   "metadata": {
    "papermill": {
     "duration": 0.019868,
     "end_time": "2021-08-27T15:42:34.711670",
     "exception": false,
     "start_time": "2021-08-27T15:42:34.691802",
     "status": "completed"
    },
    "tags": []
   },
   "source": [
    "### Define The Model and Split the Data ###"
   ]
  },
  {
   "cell_type": "markdown",
   "id": "a35f2e0f",
   "metadata": {
    "papermill": {
     "duration": 0.018984,
     "end_time": "2021-08-27T15:42:34.749813",
     "exception": false,
     "start_time": "2021-08-27T15:42:34.730829",
     "status": "completed"
    },
    "tags": []
   },
   "source": [
    "**Model 1 with RandomForestRegressor**"
   ]
  },
  {
   "cell_type": "code",
   "execution_count": 14,
   "id": "67f6c57b",
   "metadata": {
    "execution": {
     "iopub.execute_input": "2021-08-27T15:42:34.794558Z",
     "iopub.status.busy": "2021-08-27T15:42:34.793955Z",
     "iopub.status.idle": "2021-08-27T15:43:48.350818Z",
     "shell.execute_reply": "2021-08-27T15:43:48.350055Z",
     "shell.execute_reply.started": "2021-08-27T15:39:40.590323Z"
    },
    "papermill": {
     "duration": 73.582009,
     "end_time": "2021-08-27T15:43:48.350973",
     "exception": false,
     "start_time": "2021-08-27T15:42:34.768964",
     "status": "completed"
    },
    "tags": []
   },
   "outputs": [
    {
     "name": "stdout",
     "output_type": "stream",
     "text": [
      "Fitting 3 folds for each of 6 candidates, totalling 18 fits\n",
      "[CV] n_estimators=100 ................................................\n"
     ]
    },
    {
     "name": "stderr",
     "output_type": "stream",
     "text": [
      "[Parallel(n_jobs=1)]: Using backend SequentialBackend with 1 concurrent workers.\n"
     ]
    },
    {
     "name": "stdout",
     "output_type": "stream",
     "text": [
      "[CV] .................... n_estimators=100, score=0.811, total=   1.7s\n",
      "[CV] n_estimators=100 ................................................\n"
     ]
    },
    {
     "name": "stderr",
     "output_type": "stream",
     "text": [
      "[Parallel(n_jobs=1)]: Done   1 out of   1 | elapsed:    1.7s remaining:    0.0s\n"
     ]
    },
    {
     "name": "stdout",
     "output_type": "stream",
     "text": [
      "[CV] .................... n_estimators=100, score=0.855, total=   1.7s\n",
      "[CV] n_estimators=100 ................................................\n"
     ]
    },
    {
     "name": "stderr",
     "output_type": "stream",
     "text": [
      "[Parallel(n_jobs=1)]: Done   2 out of   2 | elapsed:    3.4s remaining:    0.0s\n"
     ]
    },
    {
     "name": "stdout",
     "output_type": "stream",
     "text": [
      "[CV] .................... n_estimators=100, score=0.832, total=   1.7s\n",
      "[CV] n_estimators=150 ................................................\n",
      "[CV] .................... n_estimators=150, score=0.810, total=   2.5s\n",
      "[CV] n_estimators=150 ................................................\n",
      "[CV] .................... n_estimators=150, score=0.849, total=   2.6s\n",
      "[CV] n_estimators=150 ................................................\n",
      "[CV] .................... n_estimators=150, score=0.838, total=   2.5s\n",
      "[CV] n_estimators=200 ................................................\n",
      "[CV] .................... n_estimators=200, score=0.815, total=   3.4s\n",
      "[CV] n_estimators=200 ................................................\n",
      "[CV] .................... n_estimators=200, score=0.851, total=   3.4s\n",
      "[CV] n_estimators=200 ................................................\n",
      "[CV] .................... n_estimators=200, score=0.839, total=   3.4s\n",
      "[CV] n_estimators=250 ................................................\n",
      "[CV] .................... n_estimators=250, score=0.809, total=   4.2s\n",
      "[CV] n_estimators=250 ................................................\n",
      "[CV] .................... n_estimators=250, score=0.850, total=   4.2s\n",
      "[CV] n_estimators=250 ................................................\n",
      "[CV] .................... n_estimators=250, score=0.834, total=   4.2s\n",
      "[CV] n_estimators=300 ................................................\n",
      "[CV] .................... n_estimators=300, score=0.813, total=   5.1s\n",
      "[CV] n_estimators=300 ................................................\n",
      "[CV] .................... n_estimators=300, score=0.849, total=   5.2s\n",
      "[CV] n_estimators=300 ................................................\n",
      "[CV] .................... n_estimators=300, score=0.838, total=   5.0s\n",
      "[CV] n_estimators=350 ................................................\n",
      "[CV] .................... n_estimators=350, score=0.806, total=   5.8s\n",
      "[CV] n_estimators=350 ................................................\n",
      "[CV] .................... n_estimators=350, score=0.851, total=   5.9s\n",
      "[CV] n_estimators=350 ................................................\n",
      "[CV] .................... n_estimators=350, score=0.837, total=   5.9s\n"
     ]
    },
    {
     "name": "stderr",
     "output_type": "stream",
     "text": [
      "[Parallel(n_jobs=1)]: Done  18 out of  18 | elapsed:  1.1min finished\n"
     ]
    },
    {
     "data": {
      "text/plain": [
       "Pipeline(steps=[('preprocessor',\n",
       "                 ColumnTransformer(transformers=[('num',\n",
       "                                                  Pipeline(steps=[('impute',\n",
       "                                                                   SimpleImputer(strategy='most_frequent'))]),\n",
       "                                                  ['MSSubClass', 'LotFrontage',\n",
       "                                                   'LotArea', 'OverallQual',\n",
       "                                                   'OverallCond', 'YearBuilt',\n",
       "                                                   'YearRemodAdd', 'MasVnrArea',\n",
       "                                                   'BsmtFinSF1', 'BsmtFinSF2',\n",
       "                                                   'BsmtUnfSF', 'TotalBsmtSF',\n",
       "                                                   '1stFlrSF', '2ndFlrSF',\n",
       "                                                   'LowQualFinSF', 'GrLivArea',\n",
       "                                                   'Bs...\n",
       "                                                   'HouseStyle', 'RoofStyle',\n",
       "                                                   'RoofMatl', 'Exterior1st',\n",
       "                                                   'Exterior2nd', 'MasVnrType',\n",
       "                                                   'ExterQual', 'ExterCond',\n",
       "                                                   'Foundation', 'BsmtQual',\n",
       "                                                   'BsmtCond', 'BsmtExposure',\n",
       "                                                   'BsmtFinType1',\n",
       "                                                   'BsmtFinType2', 'Heating',\n",
       "                                                   'HeatingQC', 'CentralAir',\n",
       "                                                   'Electrical', ...])])),\n",
       "                ('model',\n",
       "                 GridSearchCV(cv=3, estimator=RandomForestRegressor(),\n",
       "                              param_grid={'n_estimators': [100, 150, 200, 250,\n",
       "                                                           300, 350]},\n",
       "                              verbose=3))])"
      ]
     },
     "execution_count": 14,
     "metadata": {},
     "output_type": "execute_result"
    }
   ],
   "source": [
    "from sklearn.ensemble import RandomForestRegressor\n",
    "from sklearn.model_selection import train_test_split, GridSearchCV\n",
    "\n",
    "X = df_train.drop(['SalePrice','Id'], axis=1)\n",
    "y = df_train['SalePrice']\n",
    "\n",
    "X_train, X_test, y_train, y_test = train_test_split(X, y, test_size=0.3, random_state=42)\n",
    "\n",
    "param_grid = {'n_estimators': [100, 150, 200, 250, 300, 350]}\n",
    "model = GridSearchCV(RandomForestRegressor(), param_grid=param_grid, cv=3, verbose=3)\n",
    "\n",
    "mypipe = Pipeline(steps=[\n",
    "    ('preprocessor', preprocessor),\n",
    "    ('model', model)\n",
    "])\n",
    "\n",
    "mypipe.fit(X_train, y_train)"
   ]
  },
  {
   "cell_type": "markdown",
   "id": "f5a8d56c",
   "metadata": {
    "papermill": {
     "duration": 0.02413,
     "end_time": "2021-08-27T15:43:48.400724",
     "exception": false,
     "start_time": "2021-08-27T15:43:48.376594",
     "status": "completed"
    },
    "tags": []
   },
   "source": [
    "**Model 2 with XGRegressor**"
   ]
  },
  {
   "cell_type": "code",
   "execution_count": 15,
   "id": "4fc017b0",
   "metadata": {
    "execution": {
     "iopub.execute_input": "2021-08-27T15:43:48.455146Z",
     "iopub.status.busy": "2021-08-27T15:43:48.454528Z",
     "iopub.status.idle": "2021-08-27T15:43:55.527465Z",
     "shell.execute_reply": "2021-08-27T15:43:55.527887Z",
     "shell.execute_reply.started": "2021-08-27T15:40:55.256519Z"
    },
    "papermill": {
     "duration": 7.102765,
     "end_time": "2021-08-27T15:43:55.528070",
     "exception": false,
     "start_time": "2021-08-27T15:43:48.425305",
     "status": "completed"
    },
    "tags": []
   },
   "outputs": [
    {
     "data": {
      "text/plain": [
       "XGBRegressor(base_score=0.5, booster='gbtree', colsample_bylevel=1,\n",
       "             colsample_bynode=1, colsample_bytree=1, gamma=0, gpu_id=-1,\n",
       "             importance_type='gain', interaction_constraints='',\n",
       "             learning_rate=0.01, max_delta_step=0, max_depth=6,\n",
       "             min_child_weight=1, missing=nan, monotone_constraints='()',\n",
       "             n_estimators=1000, n_jobs=4, num_parallel_tree=1, random_state=0,\n",
       "             reg_alpha=0, reg_lambda=1, scale_pos_weight=1, subsample=1,\n",
       "             tree_method='exact', validate_parameters=1, verbosity=None)"
      ]
     },
     "execution_count": 15,
     "metadata": {},
     "output_type": "execute_result"
    }
   ],
   "source": [
    "from xgboost import XGBRegressor\n",
    "\n",
    "X_train, X_test, y_train, y_test = train_test_split(X, y, test_size=0.3, random_state=42)\n",
    "\n",
    "model2 = XGBRegressor(n_estimators=1000, learning_rate=0.01)\n",
    "\n",
    "X_train_xgb = preprocessor.fit_transform(X_train)\n",
    "X_test_xgb = preprocessor.transform(X_test)\n",
    "\n",
    "model2.fit(X_train_xgb, y_train, early_stopping_rounds=5, eval_set=[(X_test_xgb, y_test)], verbose=False)"
   ]
  },
  {
   "cell_type": "markdown",
   "id": "2c916e81",
   "metadata": {
    "papermill": {
     "duration": 0.025027,
     "end_time": "2021-08-27T15:43:55.578057",
     "exception": false,
     "start_time": "2021-08-27T15:43:55.553030",
     "status": "completed"
    },
    "tags": []
   },
   "source": [
    "### Evaluation"
   ]
  },
  {
   "cell_type": "code",
   "execution_count": 16,
   "id": "8a2cdcf4",
   "metadata": {
    "execution": {
     "iopub.execute_input": "2021-08-27T15:43:55.639102Z",
     "iopub.status.busy": "2021-08-27T15:43:55.638483Z",
     "iopub.status.idle": "2021-08-27T15:43:55.860411Z",
     "shell.execute_reply": "2021-08-27T15:43:55.859857Z",
     "shell.execute_reply.started": "2021-08-27T15:41:02.351120Z"
    },
    "papermill": {
     "duration": 0.257235,
     "end_time": "2021-08-27T15:43:55.860560",
     "exception": false,
     "start_time": "2021-08-27T15:43:55.603325",
     "status": "completed"
    },
    "tags": []
   },
   "outputs": [
    {
     "name": "stdout",
     "output_type": "stream",
     "text": [
      "RMSE: 23622.018\n",
      "MSLE: 0.016\n",
      "MAE: 15362.225\n"
     ]
    },
    {
     "data": {
      "text/plain": [
       "Text(0, 0.5, 'predictions')"
      ]
     },
     "execution_count": 16,
     "metadata": {},
     "output_type": "execute_result"
    },
    {
     "data": {
      "image/png": "[encoded data removed]",
      "text/plain": [
       "<Figure size 432x288 with 1 Axes>"
      ]
     },
     "metadata": {
      "needs_background": "light"
     },
     "output_type": "display_data"
    }
   ],
   "source": [
    "from sklearn.metrics import mean_squared_error, mean_squared_log_error, mean_absolute_error\n",
    "predictions = mypipe.predict(X_test)\n",
    "print('RMSE: ' + str(round(np.sqrt(mean_squared_error(y_test, predictions)), 3)))\n",
    "print('MSLE: ' + str(round(mean_squared_log_error(y_test, predictions), 3)))\n",
    "print('MAE: ' + str(round(mean_absolute_error(y_test, predictions), 3)))\n",
    "\n",
    "plt.scatter(x=y_test, y=predictions)\n",
    "plt.plot(y_test, y_test, color='red')\n",
    "plt.title('Model 1')\n",
    "plt.xlabel('y_test')\n",
    "plt.ylabel('predictions')"
   ]
  },
  {
   "cell_type": "code",
   "execution_count": 17,
   "id": "fb61328c",
   "metadata": {
    "execution": {
     "iopub.execute_input": "2021-08-27T15:43:55.917038Z",
     "iopub.status.busy": "2021-08-27T15:43:55.916117Z",
     "iopub.status.idle": "2021-08-27T15:43:56.093775Z",
     "shell.execute_reply": "2021-08-27T15:43:56.094220Z",
     "shell.execute_reply.started": "2021-08-27T15:41:23.292055Z"
    },
    "papermill": {
     "duration": 0.20725,
     "end_time": "2021-08-27T15:43:56.094401",
     "exception": false,
     "start_time": "2021-08-27T15:43:55.887151",
     "status": "completed"
    },
    "tags": []
   },
   "outputs": [
    {
     "name": "stdout",
     "output_type": "stream",
     "text": [
      "RMSE: 22165.581\n",
      "MSLE: 0.015\n",
      "MAE: 14852.774\n"
     ]
    },
    {
     "data": {
      "text/plain": [
       "Text(0, 0.5, 'predictions')"
      ]
     },
     "execution_count": 17,
     "metadata": {},
     "output_type": "execute_result"
    },
    {
     "data": {
      "image/png": "[encoded data removed]",
      "text/plain": [
       "<Figure size 432x288 with 1 Axes>"
      ]
     },
     "metadata": {
      "needs_background": "light"
     },
     "output_type": "display_data"
    }
   ],
   "source": [
    "from sklearn.metrics import mean_squared_error, mean_squared_log_error, mean_absolute_error\n",
    "\n",
    "predictions2 = model2.predict(X_test_xgb)\n",
    "print('RMSE: ' + str(round(np.sqrt(mean_squared_error(y_test, predictions2)), 3)))\n",
    "print('MSLE: ' + str(round(mean_squared_log_error(y_test, predictions2), 3)))\n",
    "print('MAE: ' + str(round(mean_absolute_error(y_test, predictions2), 3)))\n",
    "\n",
    "plt.scatter(x=y_test, y=predictions2)\n",
    "plt.plot(y_test, y_test, color='red')\n",
    "plt.title('Model 2')\n",
    "plt.xlabel('y_test')\n",
    "plt.ylabel('predictions')"
   ]
  },
  {
   "cell_type": "code",
   "execution_count": 18,
   "id": "1927671d",
   "metadata": {
    "execution": {
     "iopub.execute_input": "2021-08-27T15:43:56.153161Z",
     "iopub.status.busy": "2021-08-27T15:43:56.152220Z",
     "iopub.status.idle": "2021-08-27T15:43:56.214261Z",
     "shell.execute_reply": "2021-08-27T15:43:56.213643Z",
     "shell.execute_reply.started": "2021-08-27T15:41:55.325968Z"
    },
    "papermill": {
     "duration": 0.092205,
     "end_time": "2021-08-27T15:43:56.214447",
     "exception": false,
     "start_time": "2021-08-27T15:43:56.122242",
     "status": "completed"
    },
    "tags": []
   },
   "outputs": [],
   "source": [
    "pred_test = model2.predict(preprocessor.transform(df_test.drop('Id', axis=1)))\n",
    "result = pd.DataFrame({'Id': df_test['Id'], 'SalePrice': pred_test})\n",
    "result.to_csv('submission.csv', index=False)"
   ]
  },
  {
   "cell_type": "code",
   "execution_count": null,
   "id": "902b02f8",
   "metadata": {
    "papermill": {
     "duration": 0.027164,
     "end_time": "2021-08-27T15:43:56.269251",
     "exception": false,
     "start_time": "2021-08-27T15:43:56.242087",
     "status": "completed"
    },
    "tags": []
   },
   "outputs": [],
   "source": []
  }
 ],
 "metadata": {
  "kernelspec": {
   "display_name": "Python 3",
   "language": "python",
   "name": "python3"
  },
  "language_info": {
   "codemirror_mode": {
    "name": "ipython",
    "version": 3
   },
   "file_extension": ".py",
   "mimetype": "text/x-python",
   "name": "python",
   "nbconvert_exporter": "python",
   "pygments_lexer": "ipython3",
   "version": "3.8.8"
  },
  "papermill": {
   "default_parameters": {},
   "duration": 92.339807,
   "end_time": "2021-08-27T15:43:57.006951",
   "environment_variables": {},
   "exception": null,
   "input_path": "__notebook__.ipynb",
   "output_path": "__notebook__.ipynb",
   "parameters": {},
   "start_time": "2021-08-27T15:42:24.667144",
   "version": "2.3.3"
  }
 },
 "nbformat": 4,
 "nbformat_minor": 5
}
