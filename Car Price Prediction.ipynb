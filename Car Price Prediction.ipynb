{
 "cells": [
  {
   "cell_type": "code",
   "execution_count": 1,
   "id": "d4fcc6a8",
   "metadata": {},
   "outputs": [],
   "source": [
    "import pandas as pd\n",
    "import numpy as np\n",
    "import seaborn as sns\n",
    "import matplotlib.pyplot as plt\n",
    "%matplotlib inline"
   ]
  },
  {
   "cell_type": "code",
   "execution_count": 2,
   "id": "a5e9c289",
   "metadata": {},
   "outputs": [],
   "source": [
    "car = pd.read_csv('toyota.csv')"
   ]
  },
  {
   "cell_type": "markdown",
   "id": "864ee5a5",
   "metadata": {},
   "source": [
    "### Data Visualization"
   ]
  },
  {
   "cell_type": "code",
   "execution_count": 3,
   "id": "17c2bdc9",
   "metadata": {},
   "outputs": [
    {
     "data": {
      "text/plain": [
       "<AxesSubplot:>"
      ]
     },
     "execution_count": 3,
     "metadata": {},
     "output_type": "execute_result"
    },
    {
     "data": {
      "image/png": "[encoded data removed]",
      "text/plain": [
       "<Figure size 720x432 with 2 Axes>"
      ]
     },
     "metadata": {
      "needs_background": "light"
     },
     "output_type": "display_data"
    }
   ],
   "source": [
    "plt.figure(figsize=(10, 6))\n",
    "sns.heatmap(car.corr(), annot=True, cmap='viridis')"
   ]
  },
  {
   "cell_type": "code",
   "execution_count": 4,
   "id": "26db74af",
   "metadata": {},
   "outputs": [
    {
     "data": {
      "text/html": [
       "<div>\n",
       "<style scoped>\n",
       "    .dataframe tbody tr th:only-of-type {\n",
       "        vertical-align: middle;\n",
       "    }\n",
       "\n",
       "    .dataframe tbody tr th {\n",
       "        vertical-align: top;\n",
       "    }\n",
       "\n",
       "    .dataframe thead th {\n",
       "        text-align: right;\n",
       "    }\n",
       "</style>\n",
       "<table border=\"1\" class=\"dataframe\">\n",
       "  <thead>\n",
       "    <tr style=\"text-align: right;\">\n",
       "      <th></th>\n",
       "      <th>model</th>\n",
       "      <th>year</th>\n",
       "      <th>price</th>\n",
       "      <th>transmission</th>\n",
       "      <th>mileage</th>\n",
       "      <th>fuelType</th>\n",
       "      <th>tax</th>\n",
       "      <th>mpg</th>\n",
       "      <th>engineSize</th>\n",
       "    </tr>\n",
       "  </thead>\n",
       "  <tbody>\n",
       "    <tr>\n",
       "      <th>0</th>\n",
       "      <td>GT86</td>\n",
       "      <td>2016</td>\n",
       "      <td>16000</td>\n",
       "      <td>Manual</td>\n",
       "      <td>24089</td>\n",
       "      <td>Petrol</td>\n",
       "      <td>265</td>\n",
       "      <td>36.2</td>\n",
       "      <td>2.0</td>\n",
       "    </tr>\n",
       "    <tr>\n",
       "      <th>1</th>\n",
       "      <td>GT86</td>\n",
       "      <td>2017</td>\n",
       "      <td>15995</td>\n",
       "      <td>Manual</td>\n",
       "      <td>18615</td>\n",
       "      <td>Petrol</td>\n",
       "      <td>145</td>\n",
       "      <td>36.2</td>\n",
       "      <td>2.0</td>\n",
       "    </tr>\n",
       "    <tr>\n",
       "      <th>2</th>\n",
       "      <td>GT86</td>\n",
       "      <td>2015</td>\n",
       "      <td>13998</td>\n",
       "      <td>Manual</td>\n",
       "      <td>27469</td>\n",
       "      <td>Petrol</td>\n",
       "      <td>265</td>\n",
       "      <td>36.2</td>\n",
       "      <td>2.0</td>\n",
       "    </tr>\n",
       "    <tr>\n",
       "      <th>3</th>\n",
       "      <td>GT86</td>\n",
       "      <td>2017</td>\n",
       "      <td>18998</td>\n",
       "      <td>Manual</td>\n",
       "      <td>14736</td>\n",
       "      <td>Petrol</td>\n",
       "      <td>150</td>\n",
       "      <td>36.2</td>\n",
       "      <td>2.0</td>\n",
       "    </tr>\n",
       "    <tr>\n",
       "      <th>4</th>\n",
       "      <td>GT86</td>\n",
       "      <td>2017</td>\n",
       "      <td>17498</td>\n",
       "      <td>Manual</td>\n",
       "      <td>36284</td>\n",
       "      <td>Petrol</td>\n",
       "      <td>145</td>\n",
       "      <td>36.2</td>\n",
       "      <td>2.0</td>\n",
       "    </tr>\n",
       "  </tbody>\n",
       "</table>\n",
       "</div>"
      ],
      "text/plain": [
       "   model  year  price transmission  mileage fuelType  tax   mpg  engineSize\n",
       "0   GT86  2016  16000       Manual    24089   Petrol  265  36.2         2.0\n",
       "1   GT86  2017  15995       Manual    18615   Petrol  145  36.2         2.0\n",
       "2   GT86  2015  13998       Manual    27469   Petrol  265  36.2         2.0\n",
       "3   GT86  2017  18998       Manual    14736   Petrol  150  36.2         2.0\n",
       "4   GT86  2017  17498       Manual    36284   Petrol  145  36.2         2.0"
      ]
     },
     "execution_count": 4,
     "metadata": {},
     "output_type": "execute_result"
    }
   ],
   "source": [
    "car.head()"
   ]
  },
  {
   "cell_type": "code",
   "execution_count": 5,
   "id": "4835c1af",
   "metadata": {},
   "outputs": [
    {
     "data": {
      "text/plain": [
       "<AxesSubplot:xlabel='transmission', ylabel='price'>"
      ]
     },
     "execution_count": 5,
     "metadata": {},
     "output_type": "execute_result"
    },
    {
     "data": {
      "image/png": "[encoded data removed]",
      "text/plain": [
       "<Figure size 864x360 with 2 Axes>"
      ]
     },
     "metadata": {
      "needs_background": "light"
     },
     "output_type": "display_data"
    }
   ],
   "source": [
    "fig, ax = plt.subplots(nrows=1, ncols=2, figsize=(12, 5))\n",
    "sns.boxplot(x='fuelType', y='price', data=car, ax=ax[0])\n",
    "sns.boxplot(x='transmission', y='price', data=car, ax=ax[1])"
   ]
  },
  {
   "cell_type": "code",
   "execution_count": 6,
   "id": "13ad8975",
   "metadata": {
    "scrolled": false
   },
   "outputs": [
    {
     "data": {
      "text/plain": [
       "<AxesSubplot:xlabel='year', ylabel='price'>"
      ]
     },
     "execution_count": 6,
     "metadata": {},
     "output_type": "execute_result"
    },
    {
     "data": {
      "image/png": "[encoded data removed]",
      "text/plain": [
       "<Figure size 864x432 with 1 Axes>"
      ]
     },
     "metadata": {
      "needs_background": "light"
     },
     "output_type": "display_data"
    }
   ],
   "source": [
    "plt.figure(figsize=(12, 6))\n",
    "sns.barplot(x='year', y='price', data=car)"
   ]
  },
  {
   "cell_type": "code",
   "execution_count": 7,
   "id": "1a636fa9",
   "metadata": {},
   "outputs": [
    {
     "data": {
      "text/plain": [
       "Text(0.5, 1.0, 'Price Distribution')"
      ]
     },
     "execution_count": 7,
     "metadata": {},
     "output_type": "execute_result"
    },
    {
     "data": {
      "image/png": "[encoded data removed]",
      "text/plain": [
       "<Figure size 720x360 with 1 Axes>"
      ]
     },
     "metadata": {
      "needs_background": "light"
     },
     "output_type": "display_data"
    }
   ],
   "source": [
    "plt.figure(figsize=(10, 5))\n",
    "sns.histplot(x='price', data=car, stat='density')\n",
    "plt.title('Price Distribution')"
   ]
  },
  {
   "cell_type": "code",
   "execution_count": 8,
   "id": "43a03d4b",
   "metadata": {},
   "outputs": [],
   "source": [
    "num_vars = car.select_dtypes(exclude='object').columns.tolist()\n",
    "cat_vars = car.select_dtypes(include='object').columns.tolist()"
   ]
  },
  {
   "cell_type": "code",
   "execution_count": 9,
   "id": "da726fe3",
   "metadata": {},
   "outputs": [],
   "source": [
    "from sklearn.preprocessing import OneHotEncoder\n",
    "\n",
    "ohe = OneHotEncoder(handle_unknown='ignore', sparse=False)\n",
    "catdf = pd.DataFrame(ohe.fit_transform(car[cat_vars]))\n",
    "numdf = car[num_vars]\n",
    "cardf = pd.concat([numdf, catdf], axis=1)"
   ]
  },
  {
   "cell_type": "markdown",
   "id": "7f0c24ac",
   "metadata": {},
   "source": [
    "### Data Training"
   ]
  },
  {
   "cell_type": "markdown",
   "id": "b8bc0687",
   "metadata": {},
   "source": [
    "**Splitting data set and use Isoforest to detect and eliminate outliers**"
   ]
  },
  {
   "cell_type": "code",
   "execution_count": 10,
   "id": "828b3b87",
   "metadata": {},
   "outputs": [],
   "source": [
    "from sklearn.model_selection import train_test_split\n",
    "from sklearn.ensemble import IsolationForest\n",
    "\n",
    "X = cardf.drop(['price','tax'], axis=1)\n",
    "y = cardf['price']\n",
    "X_train, X_test, y_train, y_test = train_test_split(X, y, test_size=0.3, random_state=42)\n",
    "\n",
    "# IsoForest \n",
    "iso = IsolationForest(contamination=0.1)\n",
    "outliers = iso.fit_predict(X_train)\n",
    "\n",
    "# Outliers will have -1 value. Choosing the good data points\n",
    "outlier_set = np.where(outliers == -1)\n",
    "index_list = outlier_set[0].tolist()\n",
    "X_train = X_train.reset_index(drop=True)\n",
    "y_train = y_train.reset_index(drop=True)"
   ]
  },
  {
   "cell_type": "code",
   "execution_count": 11,
   "id": "dcd5ba58",
   "metadata": {},
   "outputs": [],
   "source": [
    "# Drop the outliers\n",
    "X_train_no = X_train.drop(index=index_list)\n",
    "y_train_no = y_train.drop(index=index_list)"
   ]
  },
  {
   "cell_type": "markdown",
   "id": "0146559e",
   "metadata": {},
   "source": [
    "**LinearRegression Model**"
   ]
  },
  {
   "cell_type": "code",
   "execution_count": 12,
   "id": "bbd1500b",
   "metadata": {},
   "outputs": [],
   "source": [
    "from sklearn.linear_model import LinearRegression\n",
    "from sklearn.metrics import mean_squared_error, r2_score\n",
    "\n",
    "def LR_model(X, y):\n",
    "    model_LR = LinearRegression()\n",
    "    model_LR.fit(X, y)\n",
    "    predictions_LR = model_LR.predict(X_test)\n",
    "    return predictions_LR"
   ]
  },
  {
   "cell_type": "markdown",
   "id": "57733dfa",
   "metadata": {},
   "source": [
    "**RandomForestRegressor Model**"
   ]
  },
  {
   "cell_type": "code",
   "execution_count": 13,
   "id": "e29a9364",
   "metadata": {},
   "outputs": [],
   "source": [
    "from sklearn.ensemble import RandomForestRegressor\n",
    "from sklearn.model_selection import GridSearchCV\n",
    "\n",
    "def rfr(X, y):\n",
    "    model_rfr = RandomForestRegressor()\n",
    "    param = {'n_estimators': [200, 400, 600]}\n",
    "    grid = GridSearchCV(model_rfr, param_grid=param, cv=4, verbose=3, scoring='r2')\n",
    "    grid.fit(X, y)\n",
    "    return grid.predict(X_test)"
   ]
  },
  {
   "cell_type": "markdown",
   "id": "6e20307b",
   "metadata": {},
   "source": [
    "### Model Evaluation"
   ]
  },
  {
   "cell_type": "code",
   "execution_count": 14,
   "id": "d43c6960",
   "metadata": {},
   "outputs": [],
   "source": [
    "def rmse(y, p):\n",
    "    return np.sqrt(mean_squared_error(y, p))"
   ]
  },
  {
   "cell_type": "code",
   "execution_count": 15,
   "id": "d167e21d",
   "metadata": {},
   "outputs": [
    {
     "name": "stdout",
     "output_type": "stream",
     "text": [
      "Fitting 4 folds for each of 3 candidates, totalling 12 fits\n",
      "[CV 1/4] END ...............................n_estimators=200; total time=   2.7s\n",
      "[CV 2/4] END ...............................n_estimators=200; total time=   2.5s\n",
      "[CV 3/4] END ...............................n_estimators=200; total time=   2.7s\n",
      "[CV 4/4] END ...............................n_estimators=200; total time=   2.5s\n",
      "[CV 1/4] END ...............................n_estimators=400; total time=   4.8s\n",
      "[CV 2/4] END ...............................n_estimators=400; total time=   4.9s\n",
      "[CV 3/4] END ...............................n_estimators=400; total time=   4.8s\n",
      "[CV 4/4] END ...............................n_estimators=400; total time=   4.8s\n",
      "[CV 1/4] END ...............................n_estimators=600; total time=   7.9s\n",
      "[CV 2/4] END ...............................n_estimators=600; total time=   7.9s\n",
      "[CV 3/4] END ...............................n_estimators=600; total time=   7.6s\n",
      "[CV 4/4] END ...............................n_estimators=600; total time=   7.6s\n",
      "Fitting 4 folds for each of 3 candidates, totalling 12 fits\n",
      "[CV 1/4] END ...............................n_estimators=200; total time=   1.9s\n",
      "[CV 2/4] END ...............................n_estimators=200; total time=   1.9s\n",
      "[CV 3/4] END ...............................n_estimators=200; total time=   2.0s\n",
      "[CV 4/4] END ...............................n_estimators=200; total time=   2.0s\n",
      "[CV 1/4] END ...............................n_estimators=400; total time=   4.2s\n",
      "[CV 2/4] END ...............................n_estimators=400; total time=   4.6s\n",
      "[CV 3/4] END ...............................n_estimators=400; total time=   4.6s\n",
      "[CV 4/4] END ...............................n_estimators=400; total time=   4.7s\n",
      "[CV 1/4] END ...............................n_estimators=600; total time=   7.1s\n",
      "[CV 2/4] END ...............................n_estimators=600; total time=   7.4s\n",
      "[CV 3/4] END ...............................n_estimators=600; total time=   6.8s\n",
      "[CV 4/4] END ...............................n_estimators=600; total time=   6.1s\n"
     ]
    }
   ],
   "source": [
    "preds_LR = LR_model(X_train, y_train)\n",
    "preds_ouLR = LR_model(X_train_no, y_train_no)\n",
    "preds_rfr = rfr(X_train, y_train)\n",
    "preds_ourfr = rfr(X_train_no, y_train_no)"
   ]
  },
  {
   "cell_type": "code",
   "execution_count": 16,
   "id": "1baa7ec8",
   "metadata": {},
   "outputs": [],
   "source": [
    "predictions = [preds_LR, preds_ouLR, preds_rfr, preds_ourfr]"
   ]
  },
  {
   "cell_type": "code",
   "execution_count": 17,
   "id": "e3fdac3d",
   "metadata": {},
   "outputs": [],
   "source": [
    "RMSE = []\n",
    "r2 = []\n",
    "for i in predictions:\n",
    "    RMSE.append(np.round(rmse(y_test, i), 2))\n",
    "    r2.append(np.round(r2_score(y_test, i), 3))"
   ]
  },
  {
   "cell_type": "code",
   "execution_count": 18,
   "id": "c116d0cf",
   "metadata": {},
   "outputs": [
    {
     "data": {
      "text/html": [
       "<div>\n",
       "<style scoped>\n",
       "    .dataframe tbody tr th:only-of-type {\n",
       "        vertical-align: middle;\n",
       "    }\n",
       "\n",
       "    .dataframe tbody tr th {\n",
       "        vertical-align: top;\n",
       "    }\n",
       "\n",
       "    .dataframe thead th {\n",
       "        text-align: right;\n",
       "    }\n",
       "</style>\n",
       "<table border=\"1\" class=\"dataframe\">\n",
       "  <thead>\n",
       "    <tr style=\"text-align: right;\">\n",
       "      <th></th>\n",
       "      <th>RMSE</th>\n",
       "      <th>R2</th>\n",
       "    </tr>\n",
       "  </thead>\n",
       "  <tbody>\n",
       "    <tr>\n",
       "      <th>LR outliers</th>\n",
       "      <td>1721.75</td>\n",
       "      <td>0.926</td>\n",
       "    </tr>\n",
       "    <tr>\n",
       "      <th>LR no outliers</th>\n",
       "      <td>2828.13</td>\n",
       "      <td>0.800</td>\n",
       "    </tr>\n",
       "    <tr>\n",
       "      <th>RF outliers</th>\n",
       "      <td>1225.53</td>\n",
       "      <td>0.963</td>\n",
       "    </tr>\n",
       "    <tr>\n",
       "      <th>RF no outliers</th>\n",
       "      <td>2153.91</td>\n",
       "      <td>0.884</td>\n",
       "    </tr>\n",
       "  </tbody>\n",
       "</table>\n",
       "</div>"
      ],
      "text/plain": [
       "                   RMSE     R2\n",
       "LR outliers     1721.75  0.926\n",
       "LR no outliers  2828.13  0.800\n",
       "RF outliers     1225.53  0.963\n",
       "RF no outliers  2153.91  0.884"
      ]
     },
     "execution_count": 18,
     "metadata": {},
     "output_type": "execute_result"
    }
   ],
   "source": [
    "title = ['LR outliers', 'LR no outliers', 'RF outliers', 'RF no outliers']\n",
    "score_df = pd.DataFrame({'RMSE': RMSE, 'R2': r2}, index=title)\n",
    "score_df"
   ]
  },
  {
   "cell_type": "markdown",
   "id": "4e1d557c",
   "metadata": {},
   "source": [
    "**Comments:** The model without the outliers removed performs better in both model regressor. This indicates that these outliers are significant, hence it would not be a good choice to eliminate them. The RandomForestRegressor model is chosen over the LinearRegression since it performs better with better RMSE and R2 scores. The RMSE of RF model is 1225.53, which is considered ok error for the car price."
   ]
  },
  {
   "cell_type": "markdown",
   "id": "2fd212a5",
   "metadata": {},
   "source": [
    "*Check the assumption of prediction error*"
   ]
  },
  {
   "cell_type": "code",
   "execution_count": 19,
   "id": "39db4a96",
   "metadata": {},
   "outputs": [
    {
     "data": {
      "image/png": "[encoded data removed]",
      "text/plain": [
       "<Figure size 1008x576 with 4 Axes>"
      ]
     },
     "metadata": {
      "needs_background": "light"
     },
     "output_type": "display_data"
    }
   ],
   "source": [
    "# RandomForest Model\n",
    "fig, ax = plt.subplots(nrows=2, ncols=2, figsize=(14, 8))\n",
    "z = 0\n",
    "for i in range(2):\n",
    "    for j in range(2):\n",
    "        ax[i, j].hist(y_test-predictions[z], ec='black', bins=50)\n",
    "        ax[i, j].set_title(title[z])\n",
    "        z += 1"
   ]
  },
  {
   "cell_type": "markdown",
   "id": "c245b636",
   "metadata": {},
   "source": [
    "The error seems to follow normal distribution in all four cases"
   ]
  }
 ],
 "metadata": {
  "kernelspec": {
   "display_name": "Python 3",
   "language": "python",
   "name": "python3"
  },
  "language_info": {
   "codemirror_mode": {
    "name": "ipython",
    "version": 3
   },
   "file_extension": ".py",
   "mimetype": "text/x-python",
   "name": "python",
   "nbconvert_exporter": "python",
   "pygments_lexer": "ipython3",
   "version": "3.8.8"
  }
 },
 "nbformat": 4,
 "nbformat_minor": 5
}
